{
 "cells": [
  {
   "cell_type": "code",
   "execution_count": 19,
   "metadata": {},
   "outputs": [],
   "source": [
    "import pandas as pd\n",
    "import numpy as np\n",
    "hosp = '/Users/mariama/Documents/GitHub/small-things/urgent_care_project/Hospitals.csv'\n",
    "# Had to use R to reformat the CSV somehow?? I'm sure there was a better answer, but this worked.\n",
    "hospital = pd.read_csv(hosp, encoding = \"ISO-8859-1\")\n",
    "#del(hospital['Unnamed: 0']) #delete the numbered rows that R added in. \n",
    "\n",
    "pop_means = 'pop_means_tract.csv'\n",
    "center = pd.read_csv(pop_means, encoding = \"ISO-8859-1\")"
   ]
  },
  {
   "cell_type": "code",
   "execution_count": 20,
   "metadata": {},
   "outputs": [],
   "source": [
    "er = hospital[hospital.TYPE.isin(['GENERAL ACUTE CARE','CRITICAL ACCESS'])]"
   ]
  },
  {
   "cell_type": "code",
   "execution_count": 3,
   "metadata": {},
   "outputs": [],
   "source": [
    "# Taken from: https://gist.github.com/rochacbruno/2883505 (Thanks!!)\n",
    "\n",
    "# Haversine formula example in Python\n",
    "# Author: Wayne Dyck\n",
    "\n",
    "import math\n",
    "\n",
    "def distance(origin, destination):\n",
    "    lat1, lon1 = origin\n",
    "    lat2, lon2 = destination\n",
    "    radius = 6371 # km\n",
    "\n",
    "    dlat = math.radians(lat2-lat1)\n",
    "    dlon = math.radians(lon2-lon1)\n",
    "    a = math.sin(dlat/2) * math.sin(dlat/2) + math.cos(math.radians(lat1)) \\\n",
    "        * math.cos(math.radians(lat2)) * math.sin(dlon/2) * math.sin(dlon/2)\n",
    "    c = 2 * math.atan2(math.sqrt(a), math.sqrt(1-a))\n",
    "    d = radius * c\n",
    "\n",
    "    return d"
   ]
  },
  {
   "cell_type": "code",
   "execution_count": 4,
   "metadata": {},
   "outputs": [],
   "source": [
    "hosp_latlon = pd.DataFrame(columns = ['latlon'])\n",
    "hll = er[['LAT','LON']].values.tolist()\n",
    "hosp_latlon['latlon'] = hll\n",
    "\n",
    "ct_latlon = pd.DataFrame(columns = ['latlon'])\n",
    "ctll = center[['LATITUDE','LONGITUDE']].values.tolist()\n",
    "ct_latlon['latlon'] = ctll"
   ]
  },
  {
   "cell_type": "code",
   "execution_count": 6,
   "metadata": {},
   "outputs": [],
   "source": [
    "# Defining the function to get the closest hospitals\n",
    "def get_nearest_hosp(ct_locs):\n",
    "    hosp_locs = hosp_latlon[\"latlon\"]\n",
    "    dist_list = []\n",
    "    for item in hosp_locs: \n",
    "        dist_list.append(distance(item, ct_locs))\n",
    "    temp = pd.DataFrame(dist_list)\n",
    "    #closest_hospital = er.iloc[temp.idxmin()]\n",
    "    #closest_hospital = temp.min()\n",
    "    closest_hospital_index = temp.idxmin()\n",
    "    return closest_hospital_index\n",
    "\n",
    "# Has to be two functions because .apply will only return one thing.\n",
    "def get_nearest_hosp_dist(ct_locs):\n",
    "    hosp_locs = hosp_latlon[\"latlon\"]\n",
    "    dist_list = []\n",
    "    for item in hosp_locs: \n",
    "        dist_list.append(distance(item, ct_locs))\n",
    "    temp = pd.DataFrame(dist_list)\n",
    "    closest_hospital_dist = temp.min()\n",
    "    return closest_hospital_dist"
   ]
  },
  {
   "cell_type": "code",
   "execution_count": 11,
   "metadata": {},
   "outputs": [
    {
     "name": "stdout",
     "output_type": "stream",
     "text": [
      "32.22170651912689 minutes\n"
     ]
    }
   ],
   "source": [
    "#How long will this take???\n",
    "import time\n",
    "start_time = time.time()\n",
    "\n",
    "ct_ll  = ct_latlon.head()\n",
    "ct_ll['latlon'].apply(get_nearest_hosp)\n",
    "ct_ll['latlon'].apply(get_nearest_hosp_dist)\n",
    "\n",
    "print((((len(ct_latlon)/5)*(time.time() - start_time))/60), \"minutes\")\n"
   ]
  },
  {
   "cell_type": "code",
   "execution_count": null,
   "metadata": {},
   "outputs": [],
   "source": [
    "#Applies nearest hospital functions to add two new columns to center.\n",
    "#center['hosp_index'] = ct_latlon['latlon'].apply(get_nearest_hosp)\n",
    "#center['dist'] = ct_latlon['latlon'].apply(get_nearest_hosp_dist)\n"
   ]
  },
  {
   "cell_type": "code",
   "execution_count": null,
   "metadata": {},
   "outputs": [],
   "source": [
    "#Need to reindex ER, since earlier, I dropped out all non critical access hospitals.\n",
    "#er = er.reset_index(drop=True)\n",
    "\n",
    "# Merge population center & hospital lists together on the hospital index.\n",
    "#fullset = pd.merge(center, er, left_on = \"hosp_index\", right_index=True, how = 'left')\n",
    "\n",
    "#This is what it would look like without any hospitals having closed - probably a good approximation of 2011."
   ]
  },
  {
   "cell_type": "code",
   "execution_count": null,
   "metadata": {},
   "outputs": [],
   "source": [
    "#open_hosp = fullset[fullset.STATUS.isin(['OPEN'])]\n",
    "#closed_hosp = fullset[fullset.STATUS.isin(['CLOSED'])]"
   ]
  },
  {
   "cell_type": "code",
   "execution_count": 23,
   "metadata": {},
   "outputs": [
    {
     "name": "stderr",
     "output_type": "stream",
     "text": [
      "/anaconda3/lib/python3.6/site-packages/ipykernel_launcher.py:6: SettingWithCopyWarning: \n",
      "A value is trying to be set on a copy of a slice from a DataFrame.\n",
      "Try using .loc[row_indexer,col_indexer] = value instead\n",
      "\n",
      "See the caveats in the documentation: http://pandas.pydata.org/pandas-docs/stable/indexing.html#indexing-view-versus-copy\n",
      "  \n"
     ]
    }
   ],
   "source": [
    "# STAT2 is the status of hospitals that I checked, from a list of hospitals that had closed.\n",
    "# Combining it with the STATUS that came in the original dataset, \n",
    "# to create a test column that aggregates the two.\n",
    "\n",
    "er['test'] = np.where(((er['STATUS']==\"CLOSED\")|(er[\"STAT2\"]=='CLOSED')), \"CLOSED\", \"OPEN\")"
   ]
  },
  {
   "cell_type": "code",
   "execution_count": 24,
   "metadata": {},
   "outputs": [],
   "source": [
    "# Getting the closest hospitals after removing closed hospitals\n",
    "\n",
    "hosp_latlon = pd.DataFrame(columns = ['latlon'])\n",
    "\n",
    "# looking for only open hospitals:\n",
    "er_open = er[er.test.isin(['OPEN'])]\n",
    "hll = er_open[['LAT','LON']].values.tolist()\n",
    "hosp_latlon['latlon'] = hll"
   ]
  },
  {
   "cell_type": "code",
   "execution_count": 12,
   "metadata": {},
   "outputs": [],
   "source": [
    "ct_current = center\n",
    "ct_current['hosp_index'] = ct_latlon['latlon'].apply(get_nearest_hosp)\n",
    "ct_current['dist'] = ct_latlon['latlon'].apply(get_nearest_hosp_dist)"
   ]
  },
  {
   "cell_type": "code",
   "execution_count": 13,
   "metadata": {
    "scrolled": true
   },
   "outputs": [
    {
     "data": {
      "text/plain": [
       "STATEFP           15.000000\n",
       "COUNTYFP           3.000000\n",
       "TRACTCE       981200.000000\n",
       "POPULATION         0.000000\n",
       "LATITUDE          27.784598\n",
       "LONGITUDE       -175.860040\n",
       "hosp_index      4162.000000\n",
       "dist            1754.930087\n",
       "Name: 20600, dtype: float64"
      ]
     },
     "execution_count": 13,
     "metadata": {},
     "output_type": "execute_result"
    }
   ],
   "source": [
    "ct_current.iloc[ct_current['dist'].idxmax()]"
   ]
  },
  {
   "cell_type": "code",
   "execution_count": 25,
   "metadata": {},
   "outputs": [],
   "source": [
    "#Need to reindex ER, since earlier, I dropped out all non critical access hospitals.\n",
    "er_open = er_open.reset_index(drop=True)\n",
    "\n",
    "# Merge population center & hospital lists together on the hospital index.\n",
    "only_open = pd.merge(ct_current, er_open, left_on = \"hosp_index\", right_index=True, how = 'left')\n"
   ]
  },
  {
   "cell_type": "code",
   "execution_count": 28,
   "metadata": {},
   "outputs": [],
   "source": [
    "only_open.to_csv(\"distance_2018.csv\")"
   ]
  }
 ],
 "metadata": {
  "kernelspec": {
   "display_name": "Python 3",
   "language": "python",
   "name": "python3"
  },
  "language_info": {
   "codemirror_mode": {
    "name": "ipython",
    "version": 3
   },
   "file_extension": ".py",
   "mimetype": "text/x-python",
   "name": "python",
   "nbconvert_exporter": "python",
   "pygments_lexer": "ipython3",
   "version": "3.6.5"
  }
 },
 "nbformat": 4,
 "nbformat_minor": 2
}
