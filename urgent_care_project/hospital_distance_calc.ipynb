{
 "cells": [
  {
   "cell_type": "code",
   "execution_count": 1,
   "metadata": {},
   "outputs": [],
   "source": [
    "import pandas as pd\n",
    "hosp = '/Users/mariama/Documents/GitHub/small-things/urgent_care_project/hosp.csv'\n",
    "hospital = pd.read_csv(hosp, encoding = \"ISO-8859-1\")\n",
    "del(hospital['Unnamed: 0']) #delete the numbered rows that R added in. \n",
    "\n",
    "pop_means = 'pop_means_tract.csv'\n",
    "center = pd.read_csv(pop_means, encoding = \"ISO-8859-1\")"
   ]
  },
  {
   "cell_type": "code",
   "execution_count": 2,
   "metadata": {},
   "outputs": [],
   "source": [
    "er = hospital[hospital.TYPE.isin(['GENERAL ACUTE CARE','CRITICAL ACCESS'])]"
   ]
  },
  {
   "cell_type": "code",
   "execution_count": 3,
   "metadata": {},
   "outputs": [],
   "source": [
    "# Taken from: https://gist.github.com/rochacbruno/2883505 (Thanks!!)\n",
    "\n",
    "# Haversine formula example in Python\n",
    "# Author: Wayne Dyck\n",
    "\n",
    "import math\n",
    "\n",
    "def distance(origin, destination):\n",
    "    lat1, lon1 = origin\n",
    "    lat2, lon2 = destination\n",
    "    radius = 6371 # km\n",
    "\n",
    "    dlat = math.radians(lat2-lat1)\n",
    "    dlon = math.radians(lon2-lon1)\n",
    "    a = math.sin(dlat/2) * math.sin(dlat/2) + math.cos(math.radians(lat1)) \\\n",
    "        * math.cos(math.radians(lat2)) * math.sin(dlon/2) * math.sin(dlon/2)\n",
    "    c = 2 * math.atan2(math.sqrt(a), math.sqrt(1-a))\n",
    "    d = radius * c\n",
    "\n",
    "    return d"
   ]
  },
  {
   "cell_type": "code",
   "execution_count": 4,
   "metadata": {},
   "outputs": [],
   "source": [
    "hosp_latlon = pd.DataFrame(columns = ['latlon'])\n",
    "hll = er[['LAT','LON']].values.tolist()\n",
    "hosp_latlon['latlon'] = hll\n",
    "\n",
    "ct_latlon = pd.DataFrame(columns = ['latlon'])\n",
    "ctll = center[['LATITUDE','LONGITUDE']].values.tolist()\n",
    "ct_latlon['latlon'] = ctll"
   ]
  },
  {
   "cell_type": "code",
   "execution_count": 5,
   "metadata": {},
   "outputs": [],
   "source": [
    "#hosp_list = []\n",
    "def get_nearest_hosp(ct_locs):\n",
    "    hosp_locs = hosp_latlon[\"latlon\"]\n",
    "    dist_list = []\n",
    "    for item in hosp_locs: \n",
    "        dist_list.append(distance(item, ct_locs))\n",
    "    temp = pd.DataFrame(dist_list)\n",
    "    #closest_hospital = er.iloc[temp.idxmin()]\n",
    "    #closest_hospital = temp.min()\n",
    "    closest_hospital_index = temp.idxmin()\n",
    "    return closest_hospital_index\n",
    "\n",
    "\n",
    "def get_nearest_hosp_dist(ct_locs):\n",
    "    hosp_locs = hosp_latlon[\"latlon\"]\n",
    "    dist_list = []\n",
    "    for item in hosp_locs: \n",
    "        dist_list.append(distance(item, ct_locs))\n",
    "    temp = pd.DataFrame(dist_list)\n",
    "    closest_hospital_dist = temp.min()\n",
    "    return closest_hospital_dist"
   ]
  },
  {
   "cell_type": "code",
   "execution_count": 6,
   "metadata": {},
   "outputs": [
    {
     "name": "stdout",
     "output_type": "stream",
     "text": [
      "My program took 0.12011599540710449 to run\n"
     ]
    }
   ],
   "source": [
    "import time\n",
    "start_time = time.time()\n",
    "\n",
    "ct_ll  = ct_latlon.head()\n",
    "ct_ll['latlon'].apply(get_nearest_hosp)\n",
    "ct_ll['latlon'].apply(get_nearest_hosp_dist)\n",
    "\n",
    "print(\"My program took\", time.time() - start_time, \"to run\")"
   ]
  },
  {
   "cell_type": "code",
   "execution_count": null,
   "metadata": {},
   "outputs": [],
   "source": [
    "center['hosp_index'] = ct_latlon['latlon'].apply(get_nearest_hosp)\n",
    "center['dist'] = ct_latlon['latlon'].apply(get_nearest_hosp_dist)"
   ]
  },
  {
   "cell_type": "code",
   "execution_count": null,
   "metadata": {},
   "outputs": [],
   "source": [
    "er = er.reset_index(drop=True)\n",
    "fullset = pd.merge(center, er, left_on = \"hosp_index\", right_index=True, how = 'left')"
   ]
  },
  {
   "cell_type": "code",
   "execution_count": null,
   "metadata": {},
   "outputs": [],
   "source": []
  },
  {
   "cell_type": "code",
   "execution_count": null,
   "metadata": {},
   "outputs": [],
   "source": []
  }
 ],
 "metadata": {
  "kernelspec": {
   "display_name": "Python 3",
   "language": "python",
   "name": "python3"
  },
  "language_info": {
   "codemirror_mode": {
    "name": "ipython",
    "version": 3
   },
   "file_extension": ".py",
   "mimetype": "text/x-python",
   "name": "python",
   "nbconvert_exporter": "python",
   "pygments_lexer": "ipython3",
   "version": "3.6.5"
  }
 },
 "nbformat": 4,
 "nbformat_minor": 2
}
